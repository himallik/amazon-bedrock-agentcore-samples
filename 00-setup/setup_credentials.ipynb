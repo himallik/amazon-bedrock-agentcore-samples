{
 "cells": [
  {
   "cell_type": "markdown",
   "id": "3a676f58ecf52b42",
   "metadata": {},
   "source": [
    "## Prerequisites\n",
    "\n",
    "To execute this tutorial you will need:\n",
    "* Python 3.10+\n",
    "* AWS credentials\n",
    "* Amazon Bedrock AgentCore SDK\n",
    "* Strands Agents\n",
    "* Docker running"
   ]
  },
  {
   "cell_type": "code",
   "execution_count": 2,
   "id": "initial_id",
   "metadata": {
    "jupyter": {
     "is_executing": true
    }
   },
   "outputs": [
    {
     "name": "stdout",
     "output_type": "stream",
     "text": [
      "Requirement already satisfied: boto3 in c:\\python313\\lib\\site-packages (1.39.9)\n",
      "Requirement already satisfied: botocore<1.40.0,>=1.39.9 in c:\\python313\\lib\\site-packages (from boto3) (1.39.9)\n",
      "Requirement already satisfied: jmespath<2.0.0,>=0.7.1 in c:\\python313\\lib\\site-packages (from boto3) (1.0.1)\n",
      "Requirement already satisfied: s3transfer<0.14.0,>=0.13.0 in c:\\python313\\lib\\site-packages (from boto3) (0.13.1)\n",
      "Requirement already satisfied: python-dateutil<3.0.0,>=2.1 in c:\\users\\mpanchum\\appdata\\roaming\\python\\python313\\site-packages (from botocore<1.40.0,>=1.39.9->boto3) (2.9.0.post0)\n",
      "Requirement already satisfied: urllib3!=2.2.0,<3,>=1.25.4 in c:\\python313\\lib\\site-packages (from botocore<1.40.0,>=1.39.9->boto3) (2.5.0)\n",
      "Requirement already satisfied: six>=1.5 in c:\\users\\mpanchum\\appdata\\roaming\\python\\python313\\site-packages (from python-dateutil<3.0.0,>=2.1->botocore<1.40.0,>=1.39.9->boto3) (1.17.0)\n",
      "Note: you may need to restart the kernel to use updated packages.\n"
     ]
    }
   ],
   "source": [
    "%pip install boto3"
   ]
  },
  {
   "cell_type": "markdown",
   "id": "3aa4e5b6",
   "metadata": {},
   "source": [
    "## Set credentials from profile defined in credetials file. The below code shows the code for setting profile for windows environments from credentials file. "
   ]
  },
  {
   "cell_type": "code",
   "execution_count": 3,
   "id": "c9116c81",
   "metadata": {},
   "outputs": [],
   "source": [
    "import boto3\n",
    "\n",
    "session = boto3.Session(profile_name='default')\n",
    "# Or specify different profile\n",
    "# session = boto3.Session(profile_name='your_profile_name')\n",
    "\n",
    "import configparser\n",
    "import os\n",
    "\n",
    "# Read credentials file\n",
    "config = configparser.ConfigParser()\n",
    "config.read(os.path.expanduser('~/.aws/credentials'))\n",
    "\n",
    "# Get credentials from specific profile\n",
    "profile = 'default'  # or your profile name\n",
    "aws_access_key_id = config[profile]['aws_access_key_id']\n",
    "aws_secret_access_key = config[profile]['aws_secret_access_key']"
   ]
  },
  {
   "cell_type": "markdown",
   "id": "8b331cd4",
   "metadata": {},
   "source": [
    "## Set default region from config file"
   ]
  },
  {
   "cell_type": "code",
   "execution_count": 4,
   "id": "2449d8fe",
   "metadata": {},
   "outputs": [
    {
     "name": "stdout",
     "output_type": "stream",
     "text": [
      "Current region: us-west-2\n"
     ]
    }
   ],
   "source": [
    "# Set AWS_CONFIG_FILE environment variable\n",
    "os.environ['AWS_CONFIG_FILE'] = os.path.expanduser('~/.aws/config')\n",
    "\n",
    "# Create session with profile\n",
    "session = boto3.Session(profile_name='default')\n",
    "print(f\"Current region: {session.region_name}\")"
   ]
  },
  {
   "cell_type": "code",
   "execution_count": null,
   "id": "1c63fa74",
   "metadata": {},
   "outputs": [],
   "source": []
  }
 ],
 "metadata": {
  "kernelspec": {
   "display_name": "Python 3",
   "language": "python",
   "name": "python3"
  },
  "language_info": {
   "codemirror_mode": {
    "name": "ipython",
    "version": 3
   },
   "file_extension": ".py",
   "mimetype": "text/x-python",
   "name": "python",
   "nbconvert_exporter": "python",
   "pygments_lexer": "ipython3",
   "version": "3.13.5"
  }
 },
 "nbformat": 4,
 "nbformat_minor": 5
}
